{
  "nbformat": 4,
  "nbformat_minor": 0,
  "metadata": {
    "colab": {
      "provenance": [],
      "include_colab_link": true
    },
    "kernelspec": {
      "name": "python3",
      "display_name": "Python 3"
    },
    "language_info": {
      "name": "python"
    }
  },
  "cells": [
    {
      "cell_type": "markdown",
      "metadata": {
        "id": "view-in-github",
        "colab_type": "text"
      },
      "source": [
        "<a href=\"https://colab.research.google.com/github/Ro-Cari/FATEC_CIENCIA_DADOS/blob/main/Trabalho_Algebra_Linear(PNL).ipynb\" target=\"_parent\"><img src=\"https://colab.research.google.com/assets/colab-badge.svg\" alt=\"Open In Colab\"/></a>"
      ]
    },
    {
      "cell_type": "code",
      "execution_count": null,
      "metadata": {
        "id": "O834gxPa_fAM"
      },
      "outputs": [],
      "source": []
    },
    {
      "cell_type": "markdown",
      "source": [
        "#Trabalho de Álgebra Linear - Processamento de Linguahem Natural"
      ],
      "metadata": {
        "id": "eWma2shs_gNU"
      }
    },
    {
      "cell_type": "markdown",
      "source": [
        "Indicações de coqueteis utilizando base de dados Kaggle: Conjunto de dados de receitas de bebidas"
      ],
      "metadata": {
        "id": "7KouXZ-OCpD7"
      }
    },
    {
      "cell_type": "markdown",
      "source": [
        "###Algoritmo de PLN utilizando a Similaridade do Cosseno"
      ],
      "metadata": {
        "id": "2IDlsRzn_te2"
      }
    },
    {
      "cell_type": "code",
      "source": [
        "import nltk\n",
        "import pandas as pd\n",
        "from sklearn.feature_extraction.text import TfidfVectorizer\n",
        "from sklearn.metrics.pairwise import cosine_similarity\n",
        "from nltk.corpus import stopwords\n",
        "from nltk.tokenize import word_tokenize\n",
        "import string\n",
        "from tabulate import tabulate"
      ],
      "metadata": {
        "id": "bcAioHXVTwwP"
      },
      "execution_count": 36,
      "outputs": []
    },
    {
      "cell_type": "code",
      "source": [
        "# Garantir que recursos do NLTK estão disponíveis\n",
        "nltk.download('punkt')\n",
        "nltk.download('punkt_tab')\n",
        "nltk.download('stopwords')"
      ],
      "metadata": {
        "colab": {
          "base_uri": "https://localhost:8080/"
        },
        "id": "krW7MC1vT8ls",
        "outputId": "903beb5f-a79c-4bff-99e7-a99ce9ea6b77"
      },
      "execution_count": 37,
      "outputs": [
        {
          "output_type": "stream",
          "name": "stderr",
          "text": [
            "[nltk_data] Downloading package punkt to /root/nltk_data...\n",
            "[nltk_data]   Package punkt is already up-to-date!\n",
            "[nltk_data] Downloading package punkt_tab to /root/nltk_data...\n",
            "[nltk_data]   Package punkt_tab is already up-to-date!\n",
            "[nltk_data] Downloading package stopwords to /root/nltk_data...\n",
            "[nltk_data]   Package stopwords is already up-to-date!\n"
          ]
        },
        {
          "output_type": "execute_result",
          "data": {
            "text/plain": [
              "True"
            ]
          },
          "metadata": {},
          "execution_count": 37
        }
      ]
    },
    {
      "cell_type": "code",
      "source": [
        "# Carrega o dataset de coquetéis\n",
        "base_coqueteis= pd.read_csv('/content/final_cocktails.csv')"
      ],
      "metadata": {
        "id": "TniqDx-zToUQ"
      },
      "execution_count": 38,
      "outputs": []
    },
    {
      "cell_type": "code",
      "source": [
        "# Exibe as primeiras linhas da base de dados\n",
        "base_coqueteis.head()"
      ],
      "metadata": {
        "colab": {
          "base_uri": "https://localhost:8080/",
          "height": 397
        },
        "id": "diZfsFqGTrEp",
        "outputId": "6acba2d4-20c4-420f-f349-659acfd8c967"
      },
      "execution_count": 39,
      "outputs": [
        {
          "output_type": "execute_result",
          "data": {
            "text/plain": [
              "   Unnamed: 0  id  name  alcoholic        category       glassType  \\\n",
              "0           0   0    A1  Alcoholic        Cocktail  Cocktail glass   \n",
              "1           1   1   ABC  Alcoholic            Shot      Shot glass   \n",
              "2           2   2   Ace  Alcoholic        Cocktail   Martini Glass   \n",
              "3           3   3  ACID  Alcoholic            Shot      Shot glass   \n",
              "4           4   4  Adam  Alcoholic  Ordinary Drink  Cocktail glass   \n",
              "\n",
              "                                        instructions  \\\n",
              "0  Pour all ingredients into a cocktail shaker, m...   \n",
              "1                           Layered in a shot glass.   \n",
              "2  Shake all the ingredients in a cocktail shaker...   \n",
              "3  Poor in the 151 first followed by the 101 serv...   \n",
              "4  In a shaker half-filled with ice cubes, combin...   \n",
              "\n",
              "                                      drinkThumbnail  \\\n",
              "0  https://www.thecocktaildb.com/images/media/dri...   \n",
              "1  https://www.thecocktaildb.com/images/media/dri...   \n",
              "2  https://www.thecocktaildb.com/images/media/dri...   \n",
              "3  https://www.thecocktaildb.com/images/media/dri...   \n",
              "4  https://www.thecocktaildb.com/images/media/dri...   \n",
              "\n",
              "                                         ingredients  \\\n",
              "0  ['Gin', 'Grand Marnier', 'Lemon Juice', 'Grena...   \n",
              "1      ['Amaretto', 'Baileys irish cream', 'Cognac']   \n",
              "2  ['Gin', 'Grenadine', 'Heavy cream', 'Milk', 'E...   \n",
              "3                   ['151 proof rum', 'Wild Turkey']   \n",
              "4           ['Dark rum', 'Lemon juice', 'Grenadine']   \n",
              "\n",
              "                                  ingredientMeasures  \\\n",
              "0  ['1 3/4 shot ', '1 Shot ', '1/4 Shot', '1/8 Sh...   \n",
              "1                           ['1/3 ', '1/3 ', '1/3 ']   \n",
              "2  ['2 shots ', '1/2 shot ', '1/2 shot ', '1/2 sh...   \n",
              "3                         ['1 oz Bacardi ', '1 oz ']   \n",
              "4                       ['2 oz ', '1 oz ', '1 tsp ']   \n",
              "\n",
              "                                                text  \n",
              "0  question Generate a cocktail with Gin Grand Ma...  \n",
              "1  question Generate a cocktail with Amaretto Bai...  \n",
              "2  question Generate a cocktail with Gin Grenadin...  \n",
              "3  question Generate a cocktail with 151 proof ru...  \n",
              "4  question Generate a cocktail with Dark rum Lem...  "
            ],
            "text/html": [
              "\n",
              "  <div id=\"df-e43278c0-efbb-4aa4-a9a2-ae0bc697541b\" class=\"colab-df-container\">\n",
              "    <div>\n",
              "<style scoped>\n",
              "    .dataframe tbody tr th:only-of-type {\n",
              "        vertical-align: middle;\n",
              "    }\n",
              "\n",
              "    .dataframe tbody tr th {\n",
              "        vertical-align: top;\n",
              "    }\n",
              "\n",
              "    .dataframe thead th {\n",
              "        text-align: right;\n",
              "    }\n",
              "</style>\n",
              "<table border=\"1\" class=\"dataframe\">\n",
              "  <thead>\n",
              "    <tr style=\"text-align: right;\">\n",
              "      <th></th>\n",
              "      <th>Unnamed: 0</th>\n",
              "      <th>id</th>\n",
              "      <th>name</th>\n",
              "      <th>alcoholic</th>\n",
              "      <th>category</th>\n",
              "      <th>glassType</th>\n",
              "      <th>instructions</th>\n",
              "      <th>drinkThumbnail</th>\n",
              "      <th>ingredients</th>\n",
              "      <th>ingredientMeasures</th>\n",
              "      <th>text</th>\n",
              "    </tr>\n",
              "  </thead>\n",
              "  <tbody>\n",
              "    <tr>\n",
              "      <th>0</th>\n",
              "      <td>0</td>\n",
              "      <td>0</td>\n",
              "      <td>A1</td>\n",
              "      <td>Alcoholic</td>\n",
              "      <td>Cocktail</td>\n",
              "      <td>Cocktail glass</td>\n",
              "      <td>Pour all ingredients into a cocktail shaker, m...</td>\n",
              "      <td>https://www.thecocktaildb.com/images/media/dri...</td>\n",
              "      <td>['Gin', 'Grand Marnier', 'Lemon Juice', 'Grena...</td>\n",
              "      <td>['1 3/4 shot ', '1 Shot ', '1/4 Shot', '1/8 Sh...</td>\n",
              "      <td>question Generate a cocktail with Gin Grand Ma...</td>\n",
              "    </tr>\n",
              "    <tr>\n",
              "      <th>1</th>\n",
              "      <td>1</td>\n",
              "      <td>1</td>\n",
              "      <td>ABC</td>\n",
              "      <td>Alcoholic</td>\n",
              "      <td>Shot</td>\n",
              "      <td>Shot glass</td>\n",
              "      <td>Layered in a shot glass.</td>\n",
              "      <td>https://www.thecocktaildb.com/images/media/dri...</td>\n",
              "      <td>['Amaretto', 'Baileys irish cream', 'Cognac']</td>\n",
              "      <td>['1/3 ', '1/3 ', '1/3 ']</td>\n",
              "      <td>question Generate a cocktail with Amaretto Bai...</td>\n",
              "    </tr>\n",
              "    <tr>\n",
              "      <th>2</th>\n",
              "      <td>2</td>\n",
              "      <td>2</td>\n",
              "      <td>Ace</td>\n",
              "      <td>Alcoholic</td>\n",
              "      <td>Cocktail</td>\n",
              "      <td>Martini Glass</td>\n",
              "      <td>Shake all the ingredients in a cocktail shaker...</td>\n",
              "      <td>https://www.thecocktaildb.com/images/media/dri...</td>\n",
              "      <td>['Gin', 'Grenadine', 'Heavy cream', 'Milk', 'E...</td>\n",
              "      <td>['2 shots ', '1/2 shot ', '1/2 shot ', '1/2 sh...</td>\n",
              "      <td>question Generate a cocktail with Gin Grenadin...</td>\n",
              "    </tr>\n",
              "    <tr>\n",
              "      <th>3</th>\n",
              "      <td>3</td>\n",
              "      <td>3</td>\n",
              "      <td>ACID</td>\n",
              "      <td>Alcoholic</td>\n",
              "      <td>Shot</td>\n",
              "      <td>Shot glass</td>\n",
              "      <td>Poor in the 151 first followed by the 101 serv...</td>\n",
              "      <td>https://www.thecocktaildb.com/images/media/dri...</td>\n",
              "      <td>['151 proof rum', 'Wild Turkey']</td>\n",
              "      <td>['1 oz Bacardi ', '1 oz ']</td>\n",
              "      <td>question Generate a cocktail with 151 proof ru...</td>\n",
              "    </tr>\n",
              "    <tr>\n",
              "      <th>4</th>\n",
              "      <td>4</td>\n",
              "      <td>4</td>\n",
              "      <td>Adam</td>\n",
              "      <td>Alcoholic</td>\n",
              "      <td>Ordinary Drink</td>\n",
              "      <td>Cocktail glass</td>\n",
              "      <td>In a shaker half-filled with ice cubes, combin...</td>\n",
              "      <td>https://www.thecocktaildb.com/images/media/dri...</td>\n",
              "      <td>['Dark rum', 'Lemon juice', 'Grenadine']</td>\n",
              "      <td>['2 oz ', '1 oz ', '1 tsp ']</td>\n",
              "      <td>question Generate a cocktail with Dark rum Lem...</td>\n",
              "    </tr>\n",
              "  </tbody>\n",
              "</table>\n",
              "</div>\n",
              "    <div class=\"colab-df-buttons\">\n",
              "\n",
              "  <div class=\"colab-df-container\">\n",
              "    <button class=\"colab-df-convert\" onclick=\"convertToInteractive('df-e43278c0-efbb-4aa4-a9a2-ae0bc697541b')\"\n",
              "            title=\"Convert this dataframe to an interactive table.\"\n",
              "            style=\"display:none;\">\n",
              "\n",
              "  <svg xmlns=\"http://www.w3.org/2000/svg\" height=\"24px\" viewBox=\"0 -960 960 960\">\n",
              "    <path d=\"M120-120v-720h720v720H120Zm60-500h600v-160H180v160Zm220 220h160v-160H400v160Zm0 220h160v-160H400v160ZM180-400h160v-160H180v160Zm440 0h160v-160H620v160ZM180-180h160v-160H180v160Zm440 0h160v-160H620v160Z\"/>\n",
              "  </svg>\n",
              "    </button>\n",
              "\n",
              "  <style>\n",
              "    .colab-df-container {\n",
              "      display:flex;\n",
              "      gap: 12px;\n",
              "    }\n",
              "\n",
              "    .colab-df-convert {\n",
              "      background-color: #E8F0FE;\n",
              "      border: none;\n",
              "      border-radius: 50%;\n",
              "      cursor: pointer;\n",
              "      display: none;\n",
              "      fill: #1967D2;\n",
              "      height: 32px;\n",
              "      padding: 0 0 0 0;\n",
              "      width: 32px;\n",
              "    }\n",
              "\n",
              "    .colab-df-convert:hover {\n",
              "      background-color: #E2EBFA;\n",
              "      box-shadow: 0px 1px 2px rgba(60, 64, 67, 0.3), 0px 1px 3px 1px rgba(60, 64, 67, 0.15);\n",
              "      fill: #174EA6;\n",
              "    }\n",
              "\n",
              "    .colab-df-buttons div {\n",
              "      margin-bottom: 4px;\n",
              "    }\n",
              "\n",
              "    [theme=dark] .colab-df-convert {\n",
              "      background-color: #3B4455;\n",
              "      fill: #D2E3FC;\n",
              "    }\n",
              "\n",
              "    [theme=dark] .colab-df-convert:hover {\n",
              "      background-color: #434B5C;\n",
              "      box-shadow: 0px 1px 3px 1px rgba(0, 0, 0, 0.15);\n",
              "      filter: drop-shadow(0px 1px 2px rgba(0, 0, 0, 0.3));\n",
              "      fill: #FFFFFF;\n",
              "    }\n",
              "  </style>\n",
              "\n",
              "    <script>\n",
              "      const buttonEl =\n",
              "        document.querySelector('#df-e43278c0-efbb-4aa4-a9a2-ae0bc697541b button.colab-df-convert');\n",
              "      buttonEl.style.display =\n",
              "        google.colab.kernel.accessAllowed ? 'block' : 'none';\n",
              "\n",
              "      async function convertToInteractive(key) {\n",
              "        const element = document.querySelector('#df-e43278c0-efbb-4aa4-a9a2-ae0bc697541b');\n",
              "        const dataTable =\n",
              "          await google.colab.kernel.invokeFunction('convertToInteractive',\n",
              "                                                    [key], {});\n",
              "        if (!dataTable) return;\n",
              "\n",
              "        const docLinkHtml = 'Like what you see? Visit the ' +\n",
              "          '<a target=\"_blank\" href=https://colab.research.google.com/notebooks/data_table.ipynb>data table notebook</a>'\n",
              "          + ' to learn more about interactive tables.';\n",
              "        element.innerHTML = '';\n",
              "        dataTable['output_type'] = 'display_data';\n",
              "        await google.colab.output.renderOutput(dataTable, element);\n",
              "        const docLink = document.createElement('div');\n",
              "        docLink.innerHTML = docLinkHtml;\n",
              "        element.appendChild(docLink);\n",
              "      }\n",
              "    </script>\n",
              "  </div>\n",
              "\n",
              "\n",
              "    <div id=\"df-f39a6e1f-9b8b-428a-b77d-15e533798280\">\n",
              "      <button class=\"colab-df-quickchart\" onclick=\"quickchart('df-f39a6e1f-9b8b-428a-b77d-15e533798280')\"\n",
              "                title=\"Suggest charts\"\n",
              "                style=\"display:none;\">\n",
              "\n",
              "<svg xmlns=\"http://www.w3.org/2000/svg\" height=\"24px\"viewBox=\"0 0 24 24\"\n",
              "     width=\"24px\">\n",
              "    <g>\n",
              "        <path d=\"M19 3H5c-1.1 0-2 .9-2 2v14c0 1.1.9 2 2 2h14c1.1 0 2-.9 2-2V5c0-1.1-.9-2-2-2zM9 17H7v-7h2v7zm4 0h-2V7h2v10zm4 0h-2v-4h2v4z\"/>\n",
              "    </g>\n",
              "</svg>\n",
              "      </button>\n",
              "\n",
              "<style>\n",
              "  .colab-df-quickchart {\n",
              "      --bg-color: #E8F0FE;\n",
              "      --fill-color: #1967D2;\n",
              "      --hover-bg-color: #E2EBFA;\n",
              "      --hover-fill-color: #174EA6;\n",
              "      --disabled-fill-color: #AAA;\n",
              "      --disabled-bg-color: #DDD;\n",
              "  }\n",
              "\n",
              "  [theme=dark] .colab-df-quickchart {\n",
              "      --bg-color: #3B4455;\n",
              "      --fill-color: #D2E3FC;\n",
              "      --hover-bg-color: #434B5C;\n",
              "      --hover-fill-color: #FFFFFF;\n",
              "      --disabled-bg-color: #3B4455;\n",
              "      --disabled-fill-color: #666;\n",
              "  }\n",
              "\n",
              "  .colab-df-quickchart {\n",
              "    background-color: var(--bg-color);\n",
              "    border: none;\n",
              "    border-radius: 50%;\n",
              "    cursor: pointer;\n",
              "    display: none;\n",
              "    fill: var(--fill-color);\n",
              "    height: 32px;\n",
              "    padding: 0;\n",
              "    width: 32px;\n",
              "  }\n",
              "\n",
              "  .colab-df-quickchart:hover {\n",
              "    background-color: var(--hover-bg-color);\n",
              "    box-shadow: 0 1px 2px rgba(60, 64, 67, 0.3), 0 1px 3px 1px rgba(60, 64, 67, 0.15);\n",
              "    fill: var(--button-hover-fill-color);\n",
              "  }\n",
              "\n",
              "  .colab-df-quickchart-complete:disabled,\n",
              "  .colab-df-quickchart-complete:disabled:hover {\n",
              "    background-color: var(--disabled-bg-color);\n",
              "    fill: var(--disabled-fill-color);\n",
              "    box-shadow: none;\n",
              "  }\n",
              "\n",
              "  .colab-df-spinner {\n",
              "    border: 2px solid var(--fill-color);\n",
              "    border-color: transparent;\n",
              "    border-bottom-color: var(--fill-color);\n",
              "    animation:\n",
              "      spin 1s steps(1) infinite;\n",
              "  }\n",
              "\n",
              "  @keyframes spin {\n",
              "    0% {\n",
              "      border-color: transparent;\n",
              "      border-bottom-color: var(--fill-color);\n",
              "      border-left-color: var(--fill-color);\n",
              "    }\n",
              "    20% {\n",
              "      border-color: transparent;\n",
              "      border-left-color: var(--fill-color);\n",
              "      border-top-color: var(--fill-color);\n",
              "    }\n",
              "    30% {\n",
              "      border-color: transparent;\n",
              "      border-left-color: var(--fill-color);\n",
              "      border-top-color: var(--fill-color);\n",
              "      border-right-color: var(--fill-color);\n",
              "    }\n",
              "    40% {\n",
              "      border-color: transparent;\n",
              "      border-right-color: var(--fill-color);\n",
              "      border-top-color: var(--fill-color);\n",
              "    }\n",
              "    60% {\n",
              "      border-color: transparent;\n",
              "      border-right-color: var(--fill-color);\n",
              "    }\n",
              "    80% {\n",
              "      border-color: transparent;\n",
              "      border-right-color: var(--fill-color);\n",
              "      border-bottom-color: var(--fill-color);\n",
              "    }\n",
              "    90% {\n",
              "      border-color: transparent;\n",
              "      border-bottom-color: var(--fill-color);\n",
              "    }\n",
              "  }\n",
              "</style>\n",
              "\n",
              "      <script>\n",
              "        async function quickchart(key) {\n",
              "          const quickchartButtonEl =\n",
              "            document.querySelector('#' + key + ' button');\n",
              "          quickchartButtonEl.disabled = true;  // To prevent multiple clicks.\n",
              "          quickchartButtonEl.classList.add('colab-df-spinner');\n",
              "          try {\n",
              "            const charts = await google.colab.kernel.invokeFunction(\n",
              "                'suggestCharts', [key], {});\n",
              "          } catch (error) {\n",
              "            console.error('Error during call to suggestCharts:', error);\n",
              "          }\n",
              "          quickchartButtonEl.classList.remove('colab-df-spinner');\n",
              "          quickchartButtonEl.classList.add('colab-df-quickchart-complete');\n",
              "        }\n",
              "        (() => {\n",
              "          let quickchartButtonEl =\n",
              "            document.querySelector('#df-f39a6e1f-9b8b-428a-b77d-15e533798280 button');\n",
              "          quickchartButtonEl.style.display =\n",
              "            google.colab.kernel.accessAllowed ? 'block' : 'none';\n",
              "        })();\n",
              "      </script>\n",
              "    </div>\n",
              "\n",
              "    </div>\n",
              "  </div>\n"
            ],
            "application/vnd.google.colaboratory.intrinsic+json": {
              "type": "dataframe",
              "variable_name": "base_coqueteis",
              "summary": "{\n  \"name\": \"base_coqueteis\",\n  \"rows\": 425,\n  \"fields\": [\n    {\n      \"column\": \"Unnamed: 0\",\n      \"properties\": {\n        \"dtype\": \"number\",\n        \"std\": 122,\n        \"min\": 0,\n        \"max\": 424,\n        \"num_unique_values\": 425,\n        \"samples\": [\n          417,\n          75,\n          176\n        ],\n        \"semantic_type\": \"\",\n        \"description\": \"\"\n      }\n    },\n    {\n      \"column\": \"id\",\n      \"properties\": {\n        \"dtype\": \"number\",\n        \"std\": 122,\n        \"min\": 0,\n        \"max\": 424,\n        \"num_unique_values\": 425,\n        \"samples\": [\n          417,\n          75,\n          176\n        ],\n        \"semantic_type\": \"\",\n        \"description\": \"\"\n      }\n    },\n    {\n      \"column\": \"name\",\n      \"properties\": {\n        \"dtype\": \"string\",\n        \"num_unique_values\": 425,\n        \"samples\": [\n          \"Zorbatini\",\n          \"Derby\",\n          \"Irish Russian\"\n        ],\n        \"semantic_type\": \"\",\n        \"description\": \"\"\n      }\n    },\n    {\n      \"column\": \"alcoholic\",\n      \"properties\": {\n        \"dtype\": \"category\",\n        \"num_unique_values\": 3,\n        \"samples\": [\n          \"Alcoholic\",\n          \"Non alcoholic\",\n          \"Optional alcohol\"\n        ],\n        \"semantic_type\": \"\",\n        \"description\": \"\"\n      }\n    },\n    {\n      \"column\": \"category\",\n      \"properties\": {\n        \"dtype\": \"category\",\n        \"num_unique_values\": 11,\n        \"samples\": [\n          \"Beer\",\n          \"Cocktail\",\n          \"Homemade Liqueur\"\n        ],\n        \"semantic_type\": \"\",\n        \"description\": \"\"\n      }\n    },\n    {\n      \"column\": \"glassType\",\n      \"properties\": {\n        \"dtype\": \"category\",\n        \"num_unique_values\": 39,\n        \"samples\": [\n          \"Jar\",\n          \"Whiskey Glass\",\n          \"Highball glass\"\n        ],\n        \"semantic_type\": \"\",\n        \"description\": \"\"\n      }\n    },\n    {\n      \"column\": \"instructions\",\n      \"properties\": {\n        \"dtype\": \"string\",\n        \"num_unique_values\": 390,\n        \"samples\": [\n          \"Pour schnapps, orange juice, and cranberry juice over ice in a highball glass. Top with club soda and serve.\",\n          \"Mix all ingredients, and pour over ice.\",\n          \"Prepare in a blender or shaker, serve in a highball glass on the rocks. Garnish with 1 slice of pineapple and one cherry.\"\n        ],\n        \"semantic_type\": \"\",\n        \"description\": \"\"\n      }\n    },\n    {\n      \"column\": \"drinkThumbnail\",\n      \"properties\": {\n        \"dtype\": \"string\",\n        \"num_unique_values\": 425,\n        \"samples\": [\n          \"https://www.thecocktaildb.com/images/media/drink/wtkqgb1485621155.jpg\",\n          \"https://www.thecocktaildb.com/images/media/drink/52weey1606772672.jpg\",\n          \"https://www.thecocktaildb.com/images/media/drink/swqurw1454512730.jpg\"\n        ],\n        \"semantic_type\": \"\",\n        \"description\": \"\"\n      }\n    },\n    {\n      \"column\": \"ingredients\",\n      \"properties\": {\n        \"dtype\": \"string\",\n        \"num_unique_values\": 422,\n        \"samples\": [\n          \"['Malibu rum', 'Peach schnapps', 'Blue Curacao', 'Sweet and sour']\",\n          \"['Ricard', 'Sugar', 'Peychaud bitters', 'Water', 'Bourbon', 'Lemon peel']\",\n          \"['Light rum', 'Blended whiskey', 'Lemon', 'Powdered sugar', 'Carbonated water']\"\n        ],\n        \"semantic_type\": \"\",\n        \"description\": \"\"\n      }\n    },\n    {\n      \"column\": \"ingredientMeasures\",\n      \"properties\": {\n        \"dtype\": \"string\",\n        \"num_unique_values\": 398,\n        \"samples\": [\n          \"['Juice of 1 ', '1 tblsp ', ' (seltzer water)\\\\n', None]\",\n          \"['2 oz ', '2 oz ', '4 oz Grape ']\",\n          \"['1 1/2 oz ', '1/2 oz ', '1/2 oz ', '2 dashes ', '1 ', '1 twist of ']\"\n        ],\n        \"semantic_type\": \"\",\n        \"description\": \"\"\n      }\n    },\n    {\n      \"column\": \"text\",\n      \"properties\": {\n        \"dtype\": \"string\",\n        \"num_unique_values\": 424,\n        \"samples\": [\n          \"question Generate a cocktail with Malibu rum Peach schnapps Blue Curacao Sweet and sour answer Serve in an old fashioned glass.\",\n          \"question Generate a cocktail with Blended Scotch Lemon Juice Honey syrup Ginger Syrup Islay single malt Scotch answer Shake blended Scotch, lemon juice, honey syrup and ginger syrup with ice. Strain over large ice in chilled rocks glass. Float smoky Scotch on top (be sure to use a smoky Scotch such as an Islay single malt). Garnish with candied ginger.\",\n          \"question Generate a cocktail with Light rum Blended whiskey Lemon Powdered sugar Carbonated water answer Shake all ingredients (except carbonated water) with ice and strain into a highball glass over two ice cubes. Fill with carbonated water, stir, and serve.\"\n        ],\n        \"semantic_type\": \"\",\n        \"description\": \"\"\n      }\n    }\n  ]\n}"
            }
          },
          "metadata": {},
          "execution_count": 39
        }
      ]
    },
    {
      "cell_type": "code",
      "source": [
        "# Função para tratamento de texto\n",
        "def tratar_texto(texto):\n",
        "    texto = texto.lower()\n",
        "    texto = texto.translate(str.maketrans('', '', string.punctuation))\n",
        "    palavras = word_tokenize(texto)\n",
        "    palavras_sem_stopwords = [p for p in palavras if p not in stopwords.words('english')]\n",
        "    return ' '.join(palavras_sem_stopwords)"
      ],
      "metadata": {
        "id": "CPItB7VTbm0v"
      },
      "execution_count": 40,
      "outputs": []
    },
    {
      "cell_type": "code",
      "source": [
        "# Aplica o tratamento à base\n",
        "base_coqueteis['texto_tratado'] = base_coqueteis['text'].apply(tratar_texto)"
      ],
      "metadata": {
        "id": "sU2SJOLycF6w"
      },
      "execution_count": 41,
      "outputs": []
    },
    {
      "cell_type": "code",
      "source": [
        "# Função para recomendar coquetéis com base nos ingredientes informados\n",
        "def recomendar_coqueteis(ingredientes_usuario, base, quantidade=3):\n",
        "    ingredientes_tratados = tratar_texto(ingredientes_usuario)\n",
        "    vetorizar = TfidfVectorizer()\n",
        "    textos = base['texto_tratado'].tolist() + [ingredientes_tratados]\n",
        "    matriz_tfidf = vetorizar.fit_transform(textos)\n",
        "    similaridade = cosine_similarity(matriz_tfidf[-1], matriz_tfidf[:-1])\n",
        "    indices_mais_similares = similaridade[0].argsort()[-quantidade:][::-1]\n",
        "    return base.iloc[indices_mais_similares][['name', 'ingredients', 'instructions']]"
      ],
      "metadata": {
        "id": "keB3yTvZUtaU"
      },
      "execution_count": 42,
      "outputs": []
    },
    {
      "cell_type": "code",
      "source": [
        "# Solicita os ingredientes do usuário\n",
        "ingredientes_digitados = input(\"Digite os ingredientes que você tem (em inglês, separados por espaço): \")\n",
        "\n",
        "# Obtem recomendações\n",
        "recomendacoes = recomendar_coqueteis(ingredientes_digitados, base_coqueteis)\n",
        "\n",
        "# Exibe resultados em tabela\n",
        "print(\"\\n🍹 Coquetéis recomendados:\\n\")\n",
        "print(tabulate(recomendacoes, headers='keys', tablefmt='fancy_grid', showindex=False))"
      ],
      "metadata": {
        "colab": {
          "base_uri": "https://localhost:8080/"
        },
        "id": "UryHtJziY0bz",
        "outputId": "8eb32eed-049d-49b2-8367-9e9687fd8544"
      },
      "execution_count": 46,
      "outputs": [
        {
          "output_type": "stream",
          "name": "stdout",
          "text": [
            "Digite os ingredientes que você tem (em inglês, separados por espaço): rum lime sugar\n",
            "\n",
            "🍹 Coquetéis recomendados:\n",
            "\n",
            "╒═══════════════════╤═══════════════════════════════════════════════════════════════════════════════════╤═════════════════════════════════════════════════════════════════════════════════════════════════════════════════════════════════════════════════════════════════════════════════════════════╕\n",
            "│ name              │ ingredients                                                                       │ instructions                                                                                                                                                                                │\n",
            "╞═══════════════════╪═══════════════════════════════════════════════════════════════════════════════════╪═════════════════════════════════════════════════════════════════════════════════════════════════════════════════════════════════════════════════════════════════════════════════════════════╡\n",
            "│ Rum Old-fashioned │ ['Light rum', '151 proof rum', 'Powdered sugar', 'Bitters', 'Water', 'Lime peel'] │ Stir powdered sugar, water, and bitters in an old-fashioned glass. When sugar has dissolved add ice cubes and light rum. Add the twist of lime peel, float 151 proof rum on top, and serve. │\n",
            "├───────────────────┼───────────────────────────────────────────────────────────────────────────────────┼─────────────────────────────────────────────────────────────────────────────────────────────────────────────────────────────────────────────────────────────────────────────────────────────┤\n",
            "│ Daiquiri          │ ['Light rum', 'Lime', 'Powdered sugar']                                           │ Pour all ingredients into shaker with ice cubes. Shake well. Strain in chilled cocktail glass.                                                                                              │\n",
            "├───────────────────┼───────────────────────────────────────────────────────────────────────────────────┼─────────────────────────────────────────────────────────────────────────────────────────────────────────────────────────────────────────────────────────────────────────────────────────────┤\n",
            "│ Mojito            │ ['Light rum', 'Lime', 'Sugar', 'Mint', 'Soda water']                              │ Muddle mint leaves with sugar and lime juice. Add a splash of soda water and fill the glass with cracked ice. Pour the rum and top with soda water. Garnish and serve with straw.           │\n",
            "╘═══════════════════╧═══════════════════════════════════════════════════════════════════════════════════╧═════════════════════════════════════════════════════════════════════════════════════════════════════════════════════════════════════════════════════════════════════════════════════════════╛\n"
          ]
        }
      ]
    }
  ]
}